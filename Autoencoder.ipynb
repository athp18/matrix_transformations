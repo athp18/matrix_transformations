{
  "nbformat": 4,
  "nbformat_minor": 0,
  "metadata": {
    "colab": {
      "provenance": [],
      "gpuType": "T4",
      "authorship_tag": "ABX9TyO/ugLcVJxprpY+gi/aK8hH",
      "include_colab_link": true
    },
    "kernelspec": {
      "name": "python3",
      "display_name": "Python 3"
    },
    "language_info": {
      "name": "python"
    },
    "accelerator": "GPU"
  },
  "cells": [
    {
      "cell_type": "markdown",
      "metadata": {
        "id": "view-in-github",
        "colab_type": "text"
      },
      "source": [
        "<a href=\"https://colab.research.google.com/github/athp18/pytorch_experiments/blob/main/Autoencoder.ipynb\" target=\"_parent\"><img src=\"https://colab.research.google.com/assets/colab-badge.svg\" alt=\"Open In Colab\"/></a>"
      ]
    },
    {
      "cell_type": "markdown",
      "source": [
        "## An implementation of an Autoencoder for generating synthetic images of digits using the MNIST dataset.\n",
        "\n",
        "An Autoencoder is a neural network used for unsupervised learning of efficient codings -- the idea is to learn an encoding of the data by training the network to avoid signal noise. An Autoencoder consists of three parts:\n",
        "\n",
        "- An encoder, which compresses the input data into a latent-space representation.\n",
        "- A bottleneck, which prevents information from flowing from the encoder to the decoder.\n",
        "- A decoder, which reconstructs the input data from its latent-space representation.\n",
        "\n",
        "This autoencoder has 784 neurons, for 28x28 MNIST images flattened into a one-dimensional vector. The architecture is as follows:\n",
        "\n",
        "- **Input Layer**: 784 neurons (for 28x28 pixel MNIST images flattened into a vector).\n",
        "- **Encoder**:\n",
        " - Hidden Layer 1: 128 neurons with ReLU activation.\n",
        " - Hidden Layer 2: 64 neurons with ReLU activation.\n",
        " - Code Layer (Latent Space): 32 neurons with ReLU activation.\n",
        "- **Decoder**:\n",
        "  - Hidden Layer 3: 64 neurons with ReLU activation.\n",
        "  - Hidden Layer 4: 128 neurons with ReLU activation.\n",
        "  - Output Layer: 784 neurons with sigmoid activation."
      ],
      "metadata": {
        "id": "PQUVvNSd-BwJ"
      }
    },
    {
      "cell_type": "markdown",
      "source": [
        "Mathematically, we can represent the architecture like this:\n",
        "\n",
        "### 1. Layer 1 (Encoder)\n",
        "\n",
        "$$\n",
        "h_1 = \\text{ReLU}\\left( x W_1 + b_1 \\right)\n",
        "$$\n",
        "\n",
        "### 2. Layer 2 (Encoder)\n",
        "\n",
        "$$\n",
        "h_2 = \\text{ReLU}\\left( h_1 W_2 + b_2 \\right)\n",
        "$$\n",
        "\n",
        "### 3. Code Layer\n",
        "\n",
        "$$\n",
        "c = \\text{ReLU}\\left( h_2 W_3 + b_3 \\right)\n",
        "$$\n",
        "\n",
        "### 4. Layer 3 (Decoder)\n",
        "\n",
        "$$\n",
        "h_3 = \\text{ReLU}\\left( c W_4 + b_4 \\right)\n",
        "$$\n",
        "\n",
        "### 5. Layer 4 (Decoder)\n",
        "\n",
        "$$\n",
        "h_4 = \\text{ReLU}\\left( h_3 W_5 + b_5 \\right)\n",
        "$$\n",
        "\n",
        "### 6. Output Layer\n",
        "\n",
        "$$\n",
        "\\hat{x} = \\sigma\\left( h_4 W_6 + b_6 \\right)\n",
        "$$\n"
      ],
      "metadata": {
        "id": "3jSghg49_uBQ"
      }
    },
    {
      "cell_type": "code",
      "execution_count": null,
      "metadata": {
        "colab": {
          "base_uri": "https://localhost:8080/"
        },
        "id": "HbtQKwE4LrmN",
        "outputId": "9e5e066a-699e-4f7d-e18c-2e6a3c05671b"
      },
      "outputs": [
        {
          "output_type": "stream",
          "name": "stdout",
          "text": [
            "Cloning into 'pytorch_experiments'...\n",
            "remote: Enumerating objects: 75, done.\u001b[K\n",
            "remote: Counting objects: 100% (75/75), done.\u001b[K\n",
            "remote: Compressing objects: 100% (74/74), done.\u001b[K\n",
            "remote: Total 75 (delta 32), reused 0 (delta 0), pack-reused 0 (from 0)\u001b[K\n",
            "Receiving objects: 100% (75/75), 37.76 KiB | 666.00 KiB/s, done.\n",
            "Resolving deltas: 100% (32/32), done.\n"
          ]
        }
      ],
      "source": [
        "!git clone https://github.com/athp18/pytorch_experiments.git"
      ]
    },
    {
      "cell_type": "code",
      "source": [
        "%cd pytorch_experiments"
      ],
      "metadata": {
        "colab": {
          "base_uri": "https://localhost:8080/"
        },
        "id": "2e6yMo8gL33_",
        "outputId": "27d64e6d-e3c2-4252-a9aa-0a5c768cc26e"
      },
      "execution_count": null,
      "outputs": [
        {
          "output_type": "stream",
          "name": "stdout",
          "text": [
            "/content/pytorch_experiments/pytorch_experiments/pytorch_experiments\n"
          ]
        }
      ]
    },
    {
      "cell_type": "code",
      "source": [
        "!ls"
      ],
      "metadata": {
        "colab": {
          "base_uri": "https://localhost:8080/"
        },
        "id": "kHnbaaELL69J",
        "outputId": "7ef42905-155e-4fbe-cb1f-fafeb743e581"
      },
      "execution_count": null,
      "outputs": [
        {
          "output_type": "stream",
          "name": "stdout",
          "text": [
            "autoencoder.py\tgan.py\tnaive_bayes.py\tREADME.md  utils.py\n"
          ]
        }
      ]
    },
    {
      "cell_type": "code",
      "source": [
        "import torch\n",
        "import matplotlib.pyplot as plt\n",
        "from torchvision.datasets import MNIST\n",
        "from torch.utils.data import DataLoader\n",
        "from utils import *\n",
        "\n",
        "def initialize_weights(input_dim, hidden_dim1, hidden_dim2, code_dim):\n",
        "    \"\"\"\n",
        "    Initialize the weights and biases for an autoencoder.\n",
        "\n",
        "    Args:\n",
        "    input_dim (int): Dimension of the input layer.\n",
        "    hidden_dim1 (int): Dimension of the first hidden layer.\n",
        "    hidden_dim2 (int): Dimension of the second hidden layer.\n",
        "    code_dim (int): Dimension of the latent code layer.\n",
        "\n",
        "    Returns:\n",
        "    dict: Dictionary containing initialized weights and biases.\n",
        "    \"\"\"\n",
        "    weights = {\n",
        "        # encoder weights and biases\n",
        "        'W1': torch.randn(input_dim, hidden_dim1, device=device) * 0.01,\n",
        "        'b1': torch.zeros(1, hidden_dim1, device=device),\n",
        "        'W2': torch.randn(hidden_dim1, hidden_dim2, device=device) * 0.01,\n",
        "        'b2': torch.zeros(1, hidden_dim2, device=device),\n",
        "        'W3': torch.randn(hidden_dim2, code_dim, device=device) * 0.01,\n",
        "        'b3': torch.zeros(1, code_dim, device=device),\n",
        "\n",
        "        # decoder weights and biases\n",
        "        'W4': torch.randn(code_dim, hidden_dim2, device=device) * 0.01,\n",
        "        'b4': torch.zeros(1, hidden_dim2, device=device),\n",
        "        'W5': torch.randn(hidden_dim2, hidden_dim1, device=device) * 0.01,\n",
        "        'b5': torch.zeros(1, hidden_dim1, device=device),\n",
        "        'W6': torch.randn(hidden_dim1, input_dim, device=device) * 0.01,\n",
        "        'b6': torch.zeros(1, input_dim, device=device),\n",
        "    }\n",
        "    return weights\n",
        "\n",
        "class Autoencoder:\n",
        "    \"\"\"\n",
        "    The Autoencoder class.\n",
        "\n",
        "    Attributes:\n",
        "    weights (dict): Dictionary containing weights and biases.\n",
        "    \"\"\"\n",
        "    def __init__(self, input_dim, hidden_dim1, hidden_dim2, code_dim):\n",
        "        \"\"\"\n",
        "        Initialize the Autoencoder.\n",
        "\n",
        "        Args:\n",
        "        input_dim (int): Dimension of the input layer.\n",
        "        hidden_dim1 (int): Dimension of the first hidden layer.\n",
        "        hidden_dim2 (int): Dimension of the second hidden layer.\n",
        "        code_dim (int): Dimension of the latent code layer.\n",
        "        \"\"\"\n",
        "        self.weights = initialize_weights(input_dim, hidden_dim1, hidden_dim2, code_dim)\n",
        "        # initialize the gradients\n",
        "        self.grads = {key: torch.zeros_like(value) for key, value in self.weights.items()}\n",
        "\n",
        "    def forward(self, x):\n",
        "        \"\"\"\n",
        "        Forward pass through the autoencoder.\n",
        "\n",
        "        Args:\n",
        "        x (torch.Tensor): Input tensor.\n",
        "\n",
        "        Returns:\n",
        "        torch.Tensor: Reconstructed output tensor.\n",
        "        \"\"\"\n",
        "        # Encoder layer\n",
        "        self.x = x\n",
        "        self.z1 = torch.matmul(self.x, self.weights['W1']) + self.weights['b1']\n",
        "        self.h1 = relu(self.z1)\n",
        "        self.z2 = torch.matmul(self.h1, self.weights['W2']) + self.weights['b2']\n",
        "        self.h2 = relu(self.z2)\n",
        "        self.z3 = torch.matmul(self.h2, self.weights['W3']) + self.weights['b3']\n",
        "        self.code = relu(self.z3)\n",
        "\n",
        "        # Decoder layer\n",
        "        self.z4 = torch.matmul(self.code, self.weights['W4']) + self.weights['b4']\n",
        "        self.h3 = relu(self.z4)\n",
        "        self.z5 = torch.matmul(self.h3, self.weights['W5']) + self.weights['b5']\n",
        "        self.h4 = relu(self.z5)\n",
        "        self.z6 = torch.matmul(self.h4, self.weights['W6']) + self.weights['b6']\n",
        "        self.output = sigmoid(self.z6)\n",
        "\n",
        "        return self.output\n",
        "\n",
        "    def backward(self, loss_grad):\n",
        "        \"\"\"\n",
        "        Backward pass through the autoencoder.\n",
        "\n",
        "        Args:\n",
        "        loss_grad (torch.Tensor): Gradient of the loss with respect to the output.\n",
        "        \"\"\"\n",
        "        # Derivative at the output layer (sigmoid)\n",
        "        d_z6 = loss_grad * sigmoid_derivative(self.output)\n",
        "        self.grads['W6'] += torch.matmul(self.h4.t(), d_z6)\n",
        "        self.grads['b6'] += torch.sum(d_z6, dim=0, keepdim=True)\n",
        "\n",
        "        # Backprop through h4\n",
        "        d_h4 = torch.matmul(d_z6, self.weights['W6'].t())\n",
        "        d_z5 = d_h4 * relu_derivative(self.z5)\n",
        "        self.grads['W5'] += torch.matmul(self.h3.t(), d_z5)\n",
        "        self.grads['b5'] += torch.sum(d_z5, dim=0, keepdim=True)\n",
        "\n",
        "        # Backprop through h3\n",
        "        d_h3 = torch.matmul(d_z5, self.weights['W5'].t())\n",
        "        d_z4 = d_h3 * relu_derivative(self.z4)\n",
        "        self.grads['W4'] += torch.matmul(self.code.t(), d_z4)\n",
        "        self.grads['b4'] += torch.sum(d_z4, dim=0, keepdim=True)\n",
        "\n",
        "        # Backprop through code layer\n",
        "        d_code = torch.matmul(d_z4, self.weights['W4'].t())\n",
        "        d_z3 = d_code * relu_derivative(self.z3)\n",
        "        self.grads['W3'] += torch.matmul(self.h2.t(), d_z3)\n",
        "        self.grads['b3'] += torch.sum(d_z3, dim=0, keepdim=True)\n",
        "\n",
        "        # Backprop through h2\n",
        "        d_h2 = torch.matmul(d_z3, self.weights['W3'].t())\n",
        "        d_z2 = d_h2 * relu_derivative(self.z2)\n",
        "        self.grads['W2'] += torch.matmul(self.h1.t(), d_z2)\n",
        "        self.grads['b2'] += torch.sum(d_z2, dim=0, keepdim=True)\n",
        "\n",
        "        # Backprop through h1\n",
        "        d_h1 = torch.matmul(d_z2, self.weights['W2'].t())\n",
        "        d_z1 = d_h1 * relu_derivative(self.z1)\n",
        "        self.grads['W1'] += torch.matmul(self.x.t(), d_z1)\n",
        "        self.grads['b1'] += torch.sum(d_z1, dim=0, keepdim=True)\n",
        "\n",
        "    def zero_grads(self):\n",
        "        \"\"\"\n",
        "        Zero out the gradients.\n",
        "        \"\"\"\n",
        "        for key in self.grads:\n",
        "            self.grads[key].zero_()\n",
        "\n",
        "    def update_params(self, lr):\n",
        "        \"\"\"\n",
        "        Update the weights and biases using the computed gradients.\n",
        "\n",
        "        Args:\n",
        "        lr (float): Learning rate.\n",
        "        \"\"\"\n",
        "        for key in self.weights:\n",
        "            self.weights[key] -= lr * self.grads[key]\n",
        "\n",
        "    def decode(self, code):\n",
        "        z4 = torch.matmul(code, self.weights['W4']) + self.weights['b4']\n",
        "        h3 = relu(z4)\n",
        "        z5 = torch.matmul(h3, self.weights['W5']) + self.weights['b5']\n",
        "        h4 = relu(z5)\n",
        "        z6 = torch.matmul(h4, self.weights['W6']) + self.weights['b6']\n",
        "        output = sigmoid(z6)\n",
        "        return output\n",
        "\n",
        "def load_mnist():\n",
        "    \"\"\"\n",
        "    Load the MNIST dataset with custom preprocessing.\n",
        "\n",
        "    Returns:\n",
        "    torch DataLoader: DataLoader for the MNIST dataset.\n",
        "    \"\"\"\n",
        "\n",
        "    train_dataset = MNIST(root='./data', train=True, download=True, transform=transform)\n",
        "    train_loader = DataLoader(dataset=train_dataset, batch_size=64, shuffle=True)\n",
        "    return train_loader\n",
        "\n",
        "def mse_loss(output, target):\n",
        "    \"\"\"\n",
        "    Compute the Mean Squared Error loss.\n",
        "\n",
        "    Args:\n",
        "    output (torch.Tensor): Predicted outputs.\n",
        "    target (torch.Tensor): Ground truth inputs.\n",
        "\n",
        "    Returns:\n",
        "    torch.Tensor: Mean Squared Error loss.\n",
        "    \"\"\"\n",
        "    return torch.mean((output - target) ** 2)\n",
        "\n",
        "def mse_loss_derivative(output, target):\n",
        "    \"\"\"\n",
        "    Compute the derivative of the Mean Squared Error loss with respect to the output.\n",
        "\n",
        "    Args:\n",
        "    output (torch.Tensor): Predicted outputs.\n",
        "    target (torch.Tensor): Ground truth inputs.\n",
        "\n",
        "    Returns:\n",
        "    torch.Tensor: Derivative of the loss with respect to the output.\n",
        "    \"\"\"\n",
        "    return (2 * (output - target)) / output.size(0)\n",
        "\n",
        "def generate_image(autoencoder, code_dim, num_images=10):\n",
        "    autoencoder.weights['W4'].requires_grad = False\n",
        "    autoencoder.weights['W5'].requires_grad = False\n",
        "    autoencoder.weights['W6'].requires_grad = False\n",
        "\n",
        "    with torch.no_grad():\n",
        "        # Sample random latent codes from a normal distribution\n",
        "        codes = torch.randn(num_images, code_dim).to(device)\n",
        "        generated = autoencoder.decode(codes)\n",
        "        return generated\n",
        "\n",
        "def visualize_generated_images(generated_data, n=5):\n",
        "    generated_images = generated_data.view(-1, 28, 28).cpu().detach()\n",
        "    fig, axes = plt.subplots(1, n, figsize=(10, 2))\n",
        "    for i in range(n):\n",
        "        axes[i].imshow(generated_images[i], cmap='gray')\n",
        "        axes[i].axis('off')\n",
        "    plt.show()\n",
        "\n",
        "def visualize_results(original_data, reconstructed_data, n=5):\n",
        "    \"\"\"\n",
        "    Visualize original and reconstructed images.\n",
        "\n",
        "    Args:\n",
        "    original_data (torch.Tensor): Original input images.\n",
        "    reconstructed_data (torch.Tensor): Reconstructed images from the autoencoder.\n",
        "    n (int): Number of images to display.\n",
        "    \"\"\"\n",
        "    original_images = original_data.view(-1, 28, 28).cpu().detach()\n",
        "    reconstructed_images = reconstructed_data.view(-1, 28, 28).cpu().detach()\n",
        "    fig, axes = plt.subplots(2, n, figsize=(10, 4))\n",
        "    for i in range(n):\n",
        "        # Original images\n",
        "        axes[0, i].imshow(original_images[i], cmap='gray')\n",
        "        axes[0, i].axis('off')\n",
        "        # Reconstructed images\n",
        "        axes[1, i].imshow(reconstructed_images[i], cmap='gray')\n",
        "        axes[1, i].axis('off')\n",
        "    plt.show()\n",
        "\n",
        "def train(autoencoder, data_loader, num_epochs=5, lr=0.01):\n",
        "    \"\"\"\n",
        "    Train the Autoencoder model.\n",
        "\n",
        "    Args:\n",
        "    autoencoder (Autoencoder): The autoencoder model.\n",
        "    data_loader (torch.utils.data.DataLoader): DataLoader for the dataset.\n",
        "    num_epochs (int): Number of training epochs.\n",
        "    lr (float): Learning rate.\n",
        "    \"\"\"\n",
        "    for epoch in range(num_epochs):\n",
        "        epoch_loss = 0\n",
        "        for batch_idx, (images, _) in enumerate(data_loader):\n",
        "            # Prepare input data and move to device\n",
        "            inputs = images.view(-1, 28*28).to(device)\n",
        "\n",
        "            # Forward pass\n",
        "            outputs = autoencoder.forward(inputs)\n",
        "            loss = mse_loss(outputs, inputs)\n",
        "            epoch_loss += loss.item()\n",
        "\n",
        "            # Backward pass\n",
        "            autoencoder.zero_grads()\n",
        "            loss_grad = mse_loss_derivative(outputs, inputs)\n",
        "            autoencoder.backward(loss_grad)\n",
        "\n",
        "            # parameter update\n",
        "            autoencoder.update_params(lr)\n",
        "\n",
        "            if batch_idx % 100 == 0:\n",
        "                print(f\"Epoch [{epoch+1}/{num_epochs}], Step [{batch_idx}/{len(data_loader)}], Loss: {loss.item():.4f}\")\n",
        "\n",
        "        avg_loss = epoch_loss / len(data_loader)\n",
        "        print(f\"Epoch [{epoch+1}/{num_epochs}] completed with average loss: {avg_loss:.4f}\")\n",
        "\n",
        "        #visualize\n",
        "        visualize_results(inputs, outputs)\n",
        "if __name__ == \"__main__\":\n",
        "    # Hyperparameters\n",
        "    input_dim = 784        # Input dimension (28x28 images flattened)\n",
        "    hidden_dim1 = 128      # First hidden layer size\n",
        "    hidden_dim2 = 64       # Second hidden layer size\n",
        "    code_dim = 32          # Latent code dimension\n",
        "    num_epochs = 5         # Number of training epochs\n",
        "    learning_rate = 0.01   # Learning rate\n",
        "\n",
        "    # Instantiate the Autoencoder\n",
        "    autoencoder = Autoencoder(input_dim, hidden_dim1, hidden_dim2, code_dim)\n",
        "\n",
        "    # important: move weights to device\n",
        "    for key in autoencoder.weights:\n",
        "        autoencoder.weights[key] = autoencoder.weights[key].to(device)\n",
        "    for key in autoencoder.grads:\n",
        "        autoencoder.grads[key] = autoencoder.grads[key].to(device)\n",
        "\n",
        "    # Load data\n",
        "    data_loader = load_mnist()\n",
        "\n",
        "    # Train the Autoencoder\n",
        "    train(autoencoder, data_loader, num_epochs=num_epochs, lr=learning_rate)\n",
        "    generated_images = generate_image(autoencoder, code_dim=code_dim)\n",
        "    visualize_generated_images(generated_images, n=10)"
      ],
      "metadata": {
        "colab": {
          "base_uri": "https://localhost:8080/",
          "height": 1000
        },
        "id": "bgsvutgO-O12",
        "outputId": "cd986f01-6c7a-4718-e4b4-c89eaeca7c80"
      },
      "execution_count": null,
      "outputs": [
        {
          "output_type": "stream",
          "name": "stdout",
          "text": [
            "Downloading http://yann.lecun.com/exdb/mnist/train-images-idx3-ubyte.gz\n",
            "Failed to download (trying next):\n",
            "<urlopen error [SSL: CERTIFICATE_VERIFY_FAILED] certificate verify failed: certificate has expired (_ssl.c:1007)>\n",
            "\n",
            "Downloading https://ossci-datasets.s3.amazonaws.com/mnist/train-images-idx3-ubyte.gz\n",
            "Downloading https://ossci-datasets.s3.amazonaws.com/mnist/train-images-idx3-ubyte.gz to ./data/MNIST/raw/train-images-idx3-ubyte.gz\n"
          ]
        },
        {
          "output_type": "stream",
          "name": "stderr",
          "text": [
            "100%|██████████| 9912422/9912422 [00:00<00:00, 16092399.27it/s]\n"
          ]
        },
        {
          "output_type": "stream",
          "name": "stdout",
          "text": [
            "Extracting ./data/MNIST/raw/train-images-idx3-ubyte.gz to ./data/MNIST/raw\n",
            "\n",
            "Downloading http://yann.lecun.com/exdb/mnist/train-labels-idx1-ubyte.gz\n",
            "Failed to download (trying next):\n",
            "<urlopen error [SSL: CERTIFICATE_VERIFY_FAILED] certificate verify failed: certificate has expired (_ssl.c:1007)>\n",
            "\n",
            "Downloading https://ossci-datasets.s3.amazonaws.com/mnist/train-labels-idx1-ubyte.gz\n",
            "Downloading https://ossci-datasets.s3.amazonaws.com/mnist/train-labels-idx1-ubyte.gz to ./data/MNIST/raw/train-labels-idx1-ubyte.gz\n"
          ]
        },
        {
          "output_type": "stream",
          "name": "stderr",
          "text": [
            "100%|██████████| 28881/28881 [00:00<00:00, 483421.24it/s]\n"
          ]
        },
        {
          "output_type": "stream",
          "name": "stdout",
          "text": [
            "Extracting ./data/MNIST/raw/train-labels-idx1-ubyte.gz to ./data/MNIST/raw\n",
            "\n",
            "Downloading http://yann.lecun.com/exdb/mnist/t10k-images-idx3-ubyte.gz\n",
            "Failed to download (trying next):\n",
            "<urlopen error [SSL: CERTIFICATE_VERIFY_FAILED] certificate verify failed: certificate has expired (_ssl.c:1007)>\n",
            "\n",
            "Downloading https://ossci-datasets.s3.amazonaws.com/mnist/t10k-images-idx3-ubyte.gz\n",
            "Downloading https://ossci-datasets.s3.amazonaws.com/mnist/t10k-images-idx3-ubyte.gz to ./data/MNIST/raw/t10k-images-idx3-ubyte.gz\n"
          ]
        },
        {
          "output_type": "stream",
          "name": "stderr",
          "text": [
            "100%|██████████| 1648877/1648877 [00:00<00:00, 4427624.17it/s]\n"
          ]
        },
        {
          "output_type": "stream",
          "name": "stdout",
          "text": [
            "Extracting ./data/MNIST/raw/t10k-images-idx3-ubyte.gz to ./data/MNIST/raw\n",
            "\n",
            "Downloading http://yann.lecun.com/exdb/mnist/t10k-labels-idx1-ubyte.gz\n",
            "Failed to download (trying next):\n",
            "<urlopen error [SSL: CERTIFICATE_VERIFY_FAILED] certificate verify failed: certificate has expired (_ssl.c:1007)>\n",
            "\n",
            "Downloading https://ossci-datasets.s3.amazonaws.com/mnist/t10k-labels-idx1-ubyte.gz\n",
            "Downloading https://ossci-datasets.s3.amazonaws.com/mnist/t10k-labels-idx1-ubyte.gz to ./data/MNIST/raw/t10k-labels-idx1-ubyte.gz\n"
          ]
        },
        {
          "output_type": "stream",
          "name": "stderr",
          "text": [
            "100%|██████████| 4542/4542 [00:00<00:00, 12632976.64it/s]\n"
          ]
        },
        {
          "output_type": "stream",
          "name": "stdout",
          "text": [
            "Extracting ./data/MNIST/raw/t10k-labels-idx1-ubyte.gz to ./data/MNIST/raw\n",
            "\n",
            "Epoch [1/5], Step [0/938], Loss: 0.2308\n",
            "Epoch [1/5], Step [100/938], Loss: 0.0735\n",
            "Epoch [1/5], Step [200/938], Loss: 0.0673\n",
            "Epoch [1/5], Step [300/938], Loss: 0.0672\n",
            "Epoch [1/5], Step [400/938], Loss: 0.0682\n",
            "Epoch [1/5], Step [500/938], Loss: 0.0752\n",
            "Epoch [1/5], Step [600/938], Loss: 0.0660\n",
            "Epoch [1/5], Step [700/938], Loss: 0.0676\n",
            "Epoch [1/5], Step [800/938], Loss: 0.0656\n",
            "Epoch [1/5], Step [900/938], Loss: 0.0652\n",
            "Epoch [1/5] completed with average loss: 0.0804\n"
          ]
        },
        {
          "output_type": "display_data",
          "data": {
            "text/plain": [
              "<Figure size 1000x400 with 10 Axes>"
            ],
            "image/png": "[encoded data removed]"
          },
          "metadata": {}
        },
        {
          "output_type": "stream",
          "name": "stdout",
          "text": [
            "Epoch [2/5], Step [0/938], Loss: 0.0676\n",
            "Epoch [2/5], Step [100/938], Loss: 0.0621\n",
            "Epoch [2/5], Step [200/938], Loss: 0.0668\n",
            "Epoch [2/5], Step [300/938], Loss: 0.0670\n",
            "Epoch [2/5], Step [400/938], Loss: 0.0619\n",
            "Epoch [2/5], Step [500/938], Loss: 0.0635\n",
            "Epoch [2/5], Step [600/938], Loss: 0.0653\n",
            "Epoch [2/5], Step [700/938], Loss: 0.0652\n",
            "Epoch [2/5], Step [800/938], Loss: 0.0594\n",
            "Epoch [2/5], Step [900/938], Loss: 0.0620\n",
            "Epoch [2/5] completed with average loss: 0.0641\n"
          ]
        },
        {
          "output_type": "display_data",
          "data": {
            "text/plain": [
              "<Figure size 1000x400 with 10 Axes>"
            ],
            "image/png": "[encoded data removed]"
          },
          "metadata": {}
        },
        {
          "output_type": "stream",
          "name": "stdout",
          "text": [
            "Epoch [3/5], Step [0/938], Loss: 0.0628\n",
            "Epoch [3/5], Step [100/938], Loss: 0.0635\n",
            "Epoch [3/5], Step [200/938], Loss: 0.0604\n",
            "Epoch [3/5], Step [300/938], Loss: 0.0592\n",
            "Epoch [3/5], Step [400/938], Loss: 0.0595\n",
            "Epoch [3/5], Step [500/938], Loss: 0.0614\n",
            "Epoch [3/5], Step [600/938], Loss: 0.0571\n",
            "Epoch [3/5], Step [700/938], Loss: 0.0588\n",
            "Epoch [3/5], Step [800/938], Loss: 0.0565\n",
            "Epoch [3/5], Step [900/938], Loss: 0.0543\n",
            "Epoch [3/5] completed with average loss: 0.0597\n"
          ]
        },
        {
          "output_type": "display_data",
          "data": {
            "text/plain": [
              "<Figure size 1000x400 with 10 Axes>"
            ],
            "image/png": "[encoded data removed]"
          },
          "metadata": {}
        },
        {
          "output_type": "stream",
          "name": "stdout",
          "text": [
            "Epoch [4/5], Step [0/938], Loss: 0.0595\n",
            "Epoch [4/5], Step [100/938], Loss: 0.0655\n",
            "Epoch [4/5], Step [200/938], Loss: 0.0567\n",
            "Epoch [4/5], Step [300/938], Loss: 0.0513\n",
            "Epoch [4/5], Step [400/938], Loss: 0.0565\n",
            "Epoch [4/5], Step [500/938], Loss: 0.0554\n",
            "Epoch [4/5], Step [600/938], Loss: 0.0592\n",
            "Epoch [4/5], Step [700/938], Loss: 0.0504\n",
            "Epoch [4/5], Step [800/938], Loss: 0.0501\n",
            "Epoch [4/5], Step [900/938], Loss: 0.0491\n",
            "Epoch [4/5] completed with average loss: 0.0547\n"
          ]
        },
        {
          "output_type": "display_data",
          "data": {
            "text/plain": [
              "<Figure size 1000x400 with 10 Axes>"
            ],
            "image/png": "[encoded data removed]"
          },
          "metadata": {}
        },
        {
          "output_type": "stream",
          "name": "stdout",
          "text": [
            "Epoch [5/5], Step [0/938], Loss: 0.0484\n",
            "Epoch [5/5], Step [100/938], Loss: 0.0548\n",
            "Epoch [5/5], Step [200/938], Loss: 0.0529\n",
            "Epoch [5/5], Step [300/938], Loss: 0.0535\n",
            "Epoch [5/5], Step [400/938], Loss: 0.0499\n",
            "Epoch [5/5], Step [500/938], Loss: 0.0540\n",
            "Epoch [5/5], Step [600/938], Loss: 0.0512\n",
            "Epoch [5/5], Step [700/938], Loss: 0.0486\n",
            "Epoch [5/5], Step [800/938], Loss: 0.0510\n",
            "Epoch [5/5], Step [900/938], Loss: 0.0521\n",
            "Epoch [5/5] completed with average loss: 0.0524\n"
          ]
        },
        {
          "output_type": "display_data",
          "data": {
            "text/plain": [
              "<Figure size 1000x400 with 10 Axes>"
            ],
            "image/png": "[encoded data removed]"
          },
          "metadata": {}
        },
        {
          "output_type": "display_data",
          "data": {
            "text/plain": [
              "<Figure size 1000x200 with 10 Axes>"
            ],
            "image/png": "[encoded data removed]"
          },
          "metadata": {}
        }
      ]
    },
    {
      "cell_type": "markdown",
      "source": [
        "We can see from a basic example that our images are still quite blurry. For better results, we can of course use a more advanced network, like a Variational Autoencoder (which considers the input data as being sampled from a probability distribution), or a Stable Diffusion model."
      ],
      "metadata": {
        "id": "hH4RswPkAY1E"
      }
    }
  ]
}